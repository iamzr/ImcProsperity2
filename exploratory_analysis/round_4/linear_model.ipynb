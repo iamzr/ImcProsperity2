{
 "cells": [
  {
   "cell_type": "code",
   "execution_count": 26,
   "metadata": {},
   "outputs": [],
   "source": [
    "import pandas as pd\n",
    "import numpy as np\n",
    "import matplotlib.pyplot as plt\n",
    "from sklearn.linear_model import LinearRegression\n",
    "from sklearn.model_selection import train_test_split"
   ]
  },
  {
   "cell_type": "code",
   "execution_count": 27,
   "metadata": {},
   "outputs": [],
   "source": [
    "ds = pd.read_csv('../../data/round-4-island-data-bottle/prices_round_4_day_1.csv', sep=';')\n",
    "data = ds[ds[\"product\"] == \"COCONUT\"]\n",
    "# data = data[[\"timestamp\", \"bid_price_1\", \"bid_volume_1\", \"ask_price_1\", \"ask_volume_1\", \"mid_price\"]]\n",
    "data = data[[\"timestamp\", \"mid_price\"]]\n",
    "data_returns = data[[\"timestamp\", \"mid_price\"]]"
   ]
  },
  {
   "cell_type": "code",
   "execution_count": 28,
   "metadata": {},
   "outputs": [
    {
     "data": {
      "text/plain": [
       "Index(['timestamp', 'mid_price', 'mid_price_t_1', 'mid_price_t_2',\n",
       "       'mid_price_t_5', 'mid_price_t_10', 'mid_price_t_20', 'mid_price_t_50',\n",
       "       'mid_price_t_75', 'mid_price_t_100', 'mid_price_t_150',\n",
       "       'mid_price_t_200', 'mid_price_t_250', 'mid_price_t_300',\n",
       "       'mid_price_t_350', 'mid_price_t_400', 'mid_price_t_450',\n",
       "       'mid_price_t_500'],\n",
       "      dtype='object')"
      ]
     },
     "execution_count": 28,
     "metadata": {},
     "output_type": "execute_result"
    }
   ],
   "source": [
    "lookaheads = [1,2,5,10,20,50, 75, 100, 150, 200, 250, 300, 350, 400, 450, 500]\n",
    "for lookahead in lookaheads:\n",
    "    data['mid_price_t_' + str(lookahead)] = data['mid_price'].shift(-lookahead)\n",
    "    data_returns['returns_t' + str(lookahead)] = (data['mid_price_t_' + str(lookahead)] - data['mid_price'])/data['mid_price']\n",
    "data.columns"
   ]
  },
  {
   "cell_type": "code",
   "execution_count": 29,
   "metadata": {},
   "outputs": [
    {
     "data": {
      "text/plain": [
       "Index(['timestamp', 'mid_price', 'returns_t1', 'returns_t2', 'returns_t5',\n",
       "       'returns_t10', 'returns_t20', 'returns_t50', 'returns_t75',\n",
       "       'returns_t100', 'returns_t150', 'returns_t200', 'returns_t250',\n",
       "       'returns_t300', 'returns_t350', 'returns_t400', 'returns_t450',\n",
       "       'returns_t500'],\n",
       "      dtype='object')"
      ]
     },
     "execution_count": 29,
     "metadata": {},
     "output_type": "execute_result"
    }
   ],
   "source": [
    "data_returns.columns"
   ]
  },
  {
   "cell_type": "code",
   "execution_count": 30,
   "metadata": {},
   "outputs": [
    {
     "data": {
      "text/plain": [
       "timestamp       499950.000000\n",
       "mid_price        10040.633000\n",
       "returns_t1           0.000001\n",
       "returns_t2           0.000003\n",
       "returns_t5           0.000007\n",
       "returns_t10          0.000014\n",
       "returns_t20          0.000027\n",
       "returns_t50          0.000066\n",
       "returns_t75          0.000098\n",
       "returns_t100         0.000129\n",
       "returns_t150         0.000190\n",
       "returns_t200         0.000262\n",
       "returns_t250         0.000335\n",
       "returns_t300         0.000407\n",
       "returns_t350         0.000474\n",
       "returns_t400         0.000546\n",
       "returns_t450         0.000617\n",
       "returns_t500         0.000694\n",
       "dtype: float64"
      ]
     },
     "execution_count": 30,
     "metadata": {},
     "output_type": "execute_result"
    }
   ],
   "source": [
    "data_returns.mean()"
   ]
  },
  {
   "cell_type": "code",
   "execution_count": 31,
   "metadata": {},
   "outputs": [],
   "source": [
    "def fit_linear_regression_model(stock_data, lookback_period=10):\n",
    "    \"\"\"Fits a linear regression model to predict future price changes of a stock.\n",
    "\n",
    "    Args:\n",
    "        stock_data: A pandas DataFrame containing the stock price data.\n",
    "        lookback_period: The number of previous days to use for prediction.\n",
    "\n",
    "    Returns:\n",
    "        The trained linear regression model.\n",
    "    \"\"\"\n",
    "\n",
    "    # Create features and target variable\n",
    "    X = stock_data.shift(periods=1).dropna()\n",
    "    y = stock_data.diff(periods=1).dropna()\n",
    "\n",
    "    # Split data into training and testing sets\n",
    "    X_train, X_test, y_train, y_test = train_test_split(X, y, test_size=0.2, shuffle=False)\n",
    "\n",
    "    # Create and train the linear regression model\n",
    "    model = LinearRegression()\n",
    "    model.fit(X_train, y_train)\n",
    "\n",
    "    return model"
   ]
  },
  {
   "cell_type": "code",
   "execution_count": 32,
   "metadata": {},
   "outputs": [],
   "source": [
    "def predict_future_price(model, stock_data, lookback_period=10):\n",
    "    \"\"\"Predicts the future price change of a stock using the trained model.\n",
    "\n",
    "    Args:\n",
    "        model: The trained linear regression model.\n",
    "        stock_data: A pandas DataFrame containing the stock price data.\n",
    "        lookback_period: The number of previous days to use for prediction.\n",
    "\n",
    "    Returns:\n",
    "        The predicted price change.\n",
    "    \"\"\"\n",
    "\n",
    "    # Get the last 'lookback_period' days of data\n",
    "    last_prices = stock_data[-lookback_period:]\n",
    "\n",
    "    # Predict the price change\n",
    "    predicted_change = model.predict(last_prices.values.reshape(1, -1))\n",
    "\n",
    "    # Calculate the predicted future price\n",
    "    predicted_price = last_prices.iloc[-1] + predicted_change[0]\n",
    "\n",
    "    return predicted_price"
   ]
  },
  {
   "cell_type": "code",
   "execution_count": 33,
   "metadata": {},
   "outputs": [],
   "source": [
    "# # Load your stock data (replace 'stock_data.csv' with your actual file)\n",
    "# stock_data = pd.read_csv('stock_data.csv', index_col='Date', parse_dates=True)\n",
    "\n",
    "# # Fit the linear regression model\n",
    "# model = fit_linear_regression_model(stock_data)\n",
    "\n",
    "# # Predict the future price\n",
    "# predicted_price = predict_future_price(model, stock_data)\n",
    "\n",
    "# print(\"Predicted future price:\", predicted_price)"
   ]
  }
 ],
 "metadata": {
  "kernelspec": {
   "display_name": "py311",
   "language": "python",
   "name": "python3"
  },
  "language_info": {
   "codemirror_mode": {
    "name": "ipython",
    "version": 3
   },
   "file_extension": ".py",
   "mimetype": "text/x-python",
   "name": "python",
   "nbconvert_exporter": "python",
   "pygments_lexer": "ipython3",
   "version": "3.11.8"
  }
 },
 "nbformat": 4,
 "nbformat_minor": 2
}
